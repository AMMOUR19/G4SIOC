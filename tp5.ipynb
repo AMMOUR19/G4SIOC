{
 "cells": [
  {
   "cell_type": "markdown",
   "metadata": {
    "deletable": false,
    "editable": false,
    "run_control": {
     "frozen": true
    }
   },
   "source": [
    "# TP 5 : Plannification d'examen"
   ]
  },
  {
   "cell_type": "code",
   "execution_count": null,
   "metadata": {},
   "outputs": [],
   "source": [
    "# Librairies à importer pour utiliser JuMP avec le solver GLPK\n",
    "using JuMP\n",
    "using GLPK\n",
    "\n",
    "# Définition de constantes pour le statut de résolution du problème\n",
    "const OPTIMAL = JuMP.MathOptInterface.OPTIMAL\n",
    "const INFEASIBLE = JuMP.MathOptInterface.INFEASIBLE\n",
    "const UNBOUNDED = JuMP.MathOptInterface.DUAL_INFEASIBLE;"
   ]
  },
  {
   "cell_type": "markdown",
   "metadata": {
    "deletable": false,
    "editable": false,
    "run_control": {
     "frozen": true
    }
   },
   "source": [
    "Dans une école d'ingénieurs de la région parisienne, chaque semestre, chaque étudiant de deuxième année \n",
    "choisit un ensemble de huit modules parmi onze proposés, en fonction de l'option qu'il désire suivre en troisième année. Ces options sont au nombre de deux : *Aide à la décision et optimisation* et *Communication homme-machine et documents électroniques*.\n",
    "\n",
    "Pour le semestre courant, certains modules sont obligatoires pour les étudiants désirant \n",
    "s'orienter vers ces deux options. Il s'agit des modules de Probabilités (P), Algorithme et complexité III (AC), Ingénierie des connaissances (IC) et Systèmes distribués et parallélisme (SDP). Certains autres sont optionnels : Bases de données II (BD), Réseaux (R), Optimisation combinatoire II (OC), Interface graphique (IG), C++ (C++), Paradigme logique (PL) et Génie logiciel III (GL)."
   ]
  },
  {
   "cell_type": "markdown",
   "metadata": {
    "deletable": false,
    "editable": false,
    "run_control": {
     "frozen": true
    }
   },
   "source": [
    "|&nbsp;            |BD \t|R  |C++ \t|GL \t|IC \t|IG \t|AC \t|PL \t|OC \t|P  |SDP\n",
    "------------|-------|-------|-------|-------|-------|-------|-------|-------|-------|-------|----\n",
    "BD    \t| &nbsp; | x  | &nbsp; | &nbsp; | x  | &nbsp; | x  | &nbsp; | &nbsp; | x  | x  \n",
    "R      | x  | &nbsp; | &nbsp; | &nbsp; | x  | &nbsp; | x  | &nbsp; | &nbsp; | x  | x \n",
    "C++    | &nbsp; | &nbsp; | &nbsp; | x  | x  | x  | x  | &nbsp; | x  | x  | x \n",
    "GL    \t| &nbsp; | &nbsp; | x  | &nbsp; | x  | x  | x  | &nbsp; | &nbsp; | x  | x \n",
    "IC     | x  | x  | x  | x  | &nbsp; | x  | x  | x  | x  | x  | x \n",
    "IG     | &nbsp; | &nbsp; | x  | x  | x  | &nbsp; | x  | &nbsp; | x  | x  | x \n",
    "AC     | x  | x  | x  | x  | x  | x  | &nbsp; | x  | x  | x  | x \n",
    "PL     | &nbsp; | &nbsp; | &nbsp; | &nbsp; | x  | &nbsp; | x  | &nbsp; | &nbsp; | x  | x \n",
    "OC     | &nbsp; | &nbsp; | x  | &nbsp; | x  | x  | x  | &nbsp; | &nbsp; | x  | x \n",
    "P      | x  | x  | x  | x  | x  | x  | x  | x  | x  | &nbsp; | x \n",
    "SDP    | x  | x  | x  | x  | x  | x  | x  | x  | x  | x  |&nbsp; "
   ]
  },
  {
   "cell_type": "markdown",
   "metadata": {
    "deletable": false,
    "editable": false,
    "run_control": {
     "frozen": true
    }
   },
   "source": [
    "M. Eudété doit planifier les examens prévus à la fin du semestre. Chaque examen dure deux heures.\n",
    "Deux journées sont réservées pour planifier ces examens suivant les plages horaires suivantes: \n",
    "8h-10h, 10h15-12h15, 14h-16h et 16h15-18h15. Pour chaque examen, elle connaît l'ensemble des examens incompatibles, \n",
    "qui ne peuvent avoir lieu en même temps car devant être effectués par des étudiants communs. \n",
    "Ces incompatibilités sont résumées dans le tableau, une croix indiquant une incompatibilité."
   ]
  },
  {
   "cell_type": "markdown",
   "metadata": {
    "deletable": false,
    "editable": false,
    "run_control": {
     "frozen": true
    }
   },
   "source": [
    "On souhaite que la distribution des examens sur les deux journées soit la plus équilibrée possible;\n",
    "néanmoins, le nombre d'examens planifiés pour la deuxième journée ne doit pas être supérieur au nombre d'examens planifiés pour la première journée.\n"
   ]
  },
  {
   "cell_type": "markdown",
   "metadata": {
    "deletable": false,
    "editable": false,
    "run_control": {
     "frozen": true
    }
   },
   "source": [
    "## Question 1\n",
    "\n",
    "Aidez M. Eudété à construire un emploi du temps de telle sorte qu'aucun étudiant n'ait plus d'un examen en même temps,\n",
    "en proposant (sur papier) une formulation PLNE pour résoudre le problème."
   ]
  },
  {
   "cell_type": "markdown",
   "metadata": {
    "deletable": false,
    "editable": false,
    "run_control": {
     "frozen": true
    }
   },
   "source": [
    "*Suggestion :* utiliser une famille de variables $x$ pour represénter les décisions qui concernent l'affectation des examens aux créneaux horaires,\n",
    "et une variable $z$ pour modéliser à la fois la fonction objectif et les contraintes sur le nombre et la distribution des examens sur les deux journées."
   ]
  },
  {
   "cell_type": "markdown",
   "metadata": {
    "tags": [
     "answer"
    ]
   },
   "source": [
    "**Réponse :** Écrire votre réponse ici.\n",
    "\n",
    "\n"
   ]
  },
  {
   "cell_type": "markdown",
   "metadata": {
    "deletable": false,
    "editable": false,
    "run_control": {
     "frozen": true
    }
   },
   "source": [
    "## Question 2\n",
    "\n",
    "M. Eudété ne sait pas comment résoudre le PLNE. Aidez-le en le résolvant pour lui avec Julia et JuMP.\n",
    "\n",
    "*Remarque :* comme M. Eudété a besoin de le faire tous les ans, proposez une formulation générique pour qu'il n'ait qu'à changer les données l'année prochaine.\n"
   ]
  },
  {
   "cell_type": "code",
   "execution_count": null,
   "metadata": {},
   "outputs": [],
   "source": [
    "matières = [\"BD\", \"R\", \"C++\", \"GL\", \"IC\", \"IG\", \"AC\", \"PL\", \"OC\", \"P\", \"SDP\"]\n",
    "\n",
    "incompatibilités = [\n",
    "0 1 0 0 1 0 1 0 0 1 1 ;\n",
    "1 0 0 0 1 0 1 0 0 1 1 ;\n",
    "0 0 0 1 1 1 1 0 1 1 1 ;\n",
    "0 0 1 0 1 1 1 0 0 1 1 ;\n",
    "1 1 1 1 0 1 1 1 1 1 1 ;\n",
    "0 0 1 1 1 0 1 0 1 1 1 ;\n",
    "1 1 1 1 1 1 0 1 1 1 1 ;\n",
    "0 0 0 0 1 0 1 0 0 1 1 ;\n",
    "0 0 1 0 1 1 1 0 0 1 1 ;\n",
    "1 1 1 1 1 1 1 1 1 0 1 ;\n",
    "1 1 1 1 1 1 1 1 1 1 0 \n",
    "]\n",
    "\n",
    "horaires = [\"8h-10h\", \"10h15-12h15\", \"14h-16h\", \"16h15-18h15\"]\n"
   ]
  },
  {
   "cell_type": "markdown",
   "metadata": {
    "deletable": false,
    "editable": false,
    "run_control": {
     "frozen": true
    }
   },
   "source": [
    "## Question 3\n",
    "\n",
    "M. Eudété ne sait pas lire les solutions données sous forme d'une solution 0/1. Affichez la solution de manière lisible en indiquant pour chaque matière le créneau horaire où se déroule l'examen. Affichez également le nombre d'examens en plus le premier jour."
   ]
  },
  {
   "cell_type": "code",
   "execution_count": null,
   "metadata": {
    "tags": [
     "answer"
    ]
   },
   "outputs": [],
   "source": [
    "############################## \n",
    "#   Saisir votre code ici.!   #\n",
    "##############################\n",
    "\n",
    "\n"
   ]
  }
 ],
 "metadata": {
  "@webio": {
   "lastCommId": "fa616b26e34f418aa695ecfef576d22d",
   "lastKernelId": "f8b84f77-e25d-45e4-bf35-3bc834aa2c72"
  },
  "kernelspec": {
   "display_name": "Julia 1.2.0",
   "language": "julia",
   "name": "julia-1.2"
  },
  "language_info": {
   "file_extension": ".jl",
   "mimetype": "application/julia",
   "name": "julia",
   "version": "1.2.0"
  },
  "toc": {
   "base_numbering": 1,
   "nav_menu": {},
   "number_sections": true,
   "sideBar": true,
   "skip_h1_title": true,
   "title_cell": "Table des matières",
   "title_sidebar": "Table des matières",
   "toc_cell": false,
   "toc_position": {},
   "toc_section_display": true,
   "toc_window_display": false
  },
  "varInspector": {
   "cols": {
    "lenName": 16,
    "lenType": 16,
    "lenVar": 40
   },
   "kernels_config": {
    "python": {
     "delete_cmd_postfix": "",
     "delete_cmd_prefix": "del ",
     "library": "var_list.py",
     "varRefreshCmd": "print(var_dic_list())"
    },
    "r": {
     "delete_cmd_postfix": ") ",
     "delete_cmd_prefix": "rm(",
     "library": "var_list.r",
     "varRefreshCmd": "cat(var_dic_list()) "
    }
   },
   "types_to_exclude": [
    "module",
    "function",
    "builtin_function_or_method",
    "instance",
    "_Feature"
   ],
   "window_display": false
  }
 },
 "nbformat": 4,
 "nbformat_minor": 2
}
