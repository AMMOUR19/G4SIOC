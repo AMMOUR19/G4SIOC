{
 "cells": [
  {
   "cell_type": "markdown",
   "metadata": {
    "deletable": false,
    "editable": false,
    "run_control": {
     "frozen": true
    }
   },
   "source": [
    "# TP3 : Modélisation"
   ]
  },
  {
   "cell_type": "code",
   "execution_count": null,
   "metadata": {},
   "outputs": [],
   "source": [
    "# Librairies à importer pour utiliser JuMP avec le solver GLPK\n",
    "using JuMP\n",
    "using GLPK\n",
    "\n",
    "# Définition de constantes pour le statut de résolution du problème\n",
    "const OPTIMAL = JuMP.MathOptInterface.OPTIMAL\n",
    "const INFEASIBLE = JuMP.MathOptInterface.INFEASIBLE\n",
    "const UNBOUNDED = JuMP.MathOptInterface.DUAL_INFEASIBLE;"
   ]
  },
  {
   "cell_type": "markdown",
   "metadata": {
    "deletable": false,
    "editable": false,
    "run_control": {
     "frozen": true
    }
   },
   "source": [
    "## Exercice 1 : Équipe de superhéros\n",
    "\n",
    "Pour combattre les aliens qui envahissent la terre, il faut créer une équipe de superhéros travaillant main dans la main. Malheureusement, certains superhéros sont ennemis et ne peuvent donc pas faire équipe...  Combien de superhéros peuvent aller combattre les aliens ? Il faut trouver l'équipe la plus importante possible sans ennemis... Le sort de la terre en dépend !\n",
    "\n",
    "Voici la liste des superhéros : \n",
    "   * Batman\n",
    "   * Superman\n",
    "   * Catwoman\n",
    "   * Flash\n",
    "   * Wonder woman\n",
    "   * Black Panther\n",
    "   * Captain America\n",
    "   * Daredevil\n",
    "   * Elektra\n",
    "   * Hulk\n",
    "\n",
    "Et voici maintenant la liste des ennemis jurés : \n",
    "   * Batman et Flash\n",
    "   * Catwoman et Captain America\n",
    "   * Daredevil et Elektra\n",
    "   * Hulk et Batman\n",
    "   * Catwoman et Wonder woman\n",
    "   * Black Panther et Hulk\n",
    "   * Superman et Flash\n",
    "   * Superman et Elektra\n",
    "   * Flash et Daredevil\n",
    "   * Wonder woman et Captain America\n",
    "   * Daredevil et Hulk\n",
    "   * Batman et Captain America\n",
    "   * Batman et Wonder woman\n",
    "   * Black Panther et Wonder woman\n",
    "\n",
    "\n",
    "\n",
    "**Remarque :** Il est possible de définir des variables indexées par un tableau de chaînes de caractères. Par exemple, il est possible de déclarer les variables `@variable(m,x[Superhéros])`\n",
    "\n",
    "\n",
    "\n"
   ]
  },
  {
   "cell_type": "code",
   "execution_count": null,
   "metadata": {},
   "outputs": [],
   "source": [
    "#=\n",
    "    DONNÉES\n",
    "=#\n",
    "\n",
    "Superhéros = [\n",
    " \"Batman\",\n",
    " \"Superman\",\n",
    " \"Catwoman\",\n",
    " \"Flash\",\n",
    " \"Wonder woman\",\n",
    " \"Black Panther\",\n",
    " \"Captain America\",\n",
    " \"Daredevil\",\n",
    " \"Elektra\",\n",
    " \"Hulk\"\n",
    "]\n",
    "\n",
    "\n",
    "Ennemis = [\n",
    "  [\"Batman\", \"Flash\"],\n",
    "  [\"Catwoman\", \"Captain America\"],\n",
    "  [\"Daredevil\", \"Elektra\"],\n",
    "  [\"Hulk\", \"Batman\"],\n",
    "  [\"Catwoman\", \"Wonder woman\"],\n",
    "  [\"Black Panther\", \"Hulk\"],\n",
    "  [\"Superman\", \"Flash\"],\n",
    "  [\"Superman\", \"Elektra\"],\n",
    "  [\"Flash\", \"Daredevil\"],\n",
    "  [\"Wonder woman\", \"Captain America\"],\n",
    "  [\"Daredevil\", \"Hulk\"],\n",
    "  [\"Batman\", \"Captain America\"],\n",
    "  [\"Batman\", \"Wonder woman\"],\n",
    "  [\"Black Panther\", \"Wonder woman\"]\n",
    "];"
   ]
  },
  {
   "cell_type": "code",
   "execution_count": null,
   "metadata": {
    "tags": [
     "answer"
    ]
   },
   "outputs": [],
   "source": [
    "############################## \n",
    "#   Saisir votre code ici.   #\n",
    "##############################\n",
    "\n",
    "\n"
   ]
  },
  {
   "cell_type": "markdown",
   "metadata": {
    "deletable": false,
    "editable": false,
    "run_control": {
     "frozen": true
    }
   },
   "source": [
    "## Exercice 2 : Pause sudoku\n",
    "\n",
    "\n",
    "Le but de cet exercice est de résoudre cette grille de sudoku **à l'aide de la programmation linéaire en nombres entiers !**\n",
    "\n",
    "<img src=\"img/grille_sudoku.png\" alt=\"Grille de sudoku\" style=\"width: 400px;\"/>\n",
    "\n",
    "**Remarque :** On utilisera comme variable `x[i,j,k]` qui vaut 1 si la case (i,j) contient la valeur k, et 0 sinon."
   ]
  },
  {
   "cell_type": "code",
   "execution_count": null,
   "metadata": {},
   "outputs": [],
   "source": [
    "#=\n",
    "    DONNÉES\n",
    "=#\n",
    "\n",
    "Grille = [\n",
    "  5 3 0 0 7 0 0 0 0;\n",
    "  6 0 0 1 9 5 0 0 0;\n",
    "  0 9 8 0 0 0 0 6 0;\n",
    "  8 0 0 0 6 0 0 0 3;\n",
    "  4 0 0 8 0 3 0 0 1;\n",
    "  7 0 0 0 2 0 0 0 6;\n",
    "  0 6 0 0 0 0 2 8 0;\n",
    "  0 0 0 4 1 9 0 0 5;\n",
    "  0 0 0 0 8 0 0 7 9\n",
    "];"
   ]
  },
  {
   "cell_type": "code",
   "execution_count": null,
   "metadata": {
    "tags": [
     "answer"
    ]
   },
   "outputs": [],
   "source": [
    "############################## \n",
    "#   Saisir votre code ici.   #\n",
    "##############################\n",
    "\n",
    "\n"
   ]
  }
 ],
 "metadata": {
  "@webio": {
   "lastCommId": "b1a889be45a24cbc8916d0eb444b98a6",
   "lastKernelId": "80a18d9b-e0b6-4f5b-a8fd-5998dd4aca5d"
  },
  "kernelspec": {
   "display_name": "Julia 1.2.0",
   "language": "julia",
   "name": "julia-1.2"
  },
  "language_info": {
   "file_extension": ".jl",
   "mimetype": "application/julia",
   "name": "julia",
   "version": "1.2.0"
  },
  "toc": {
   "base_numbering": 1,
   "nav_menu": {},
   "number_sections": true,
   "sideBar": true,
   "skip_h1_title": true,
   "title_cell": "Table des matières",
   "title_sidebar": "Table des matières",
   "toc_cell": false,
   "toc_position": {},
   "toc_section_display": true,
   "toc_window_display": false
  },
  "varInspector": {
   "cols": {
    "lenName": 16,
    "lenType": 16,
    "lenVar": 40
   },
   "kernels_config": {
    "python": {
     "delete_cmd_postfix": "",
     "delete_cmd_prefix": "del ",
     "library": "var_list.py",
     "varRefreshCmd": "print(var_dic_list())"
    },
    "r": {
     "delete_cmd_postfix": ") ",
     "delete_cmd_prefix": "rm(",
     "library": "var_list.r",
     "varRefreshCmd": "cat(var_dic_list()) "
    }
   },
   "types_to_exclude": [
    "module",
    "function",
    "builtin_function_or_method",
    "instance",
    "_Feature"
   ],
   "window_display": false
  }
 },
 "nbformat": 4,
 "nbformat_minor": 2
}
